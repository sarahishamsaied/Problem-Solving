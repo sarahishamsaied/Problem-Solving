{
 "cells": [
  {
   "attachments": {},
   "cell_type": "markdown",
   "metadata": {},
   "source": [
    "# Validate Subsequence"
   ]
  },
  {
   "attachments": {},
   "cell_type": "markdown",
   "metadata": {},
   "source": [
    "Problem:"
   ]
  },
  {
   "attachments": {},
   "cell_type": "markdown",
   "metadata": {},
   "source": [
    "Sample Input:"
   ]
  },
  {
   "attachments": {},
   "cell_type": "markdown",
   "metadata": {},
   "source": [
    "array = [5, 1, 22, 25, 6, -1, 8, 10]\n",
    "\n",
    "sequence = [1, 6, -1, 10]"
   ]
  },
  {
   "cell_type": "code",
   "execution_count": 1,
   "metadata": {},
   "outputs": [],
   "source": [
    "def validateSubsequence(array, sequence):\n",
    "    seqPtr = 0\n",
    "    for i in range(len(array)):\n",
    "        if(seqPtr == len(sequence)):\n",
    "            break\n",
    "        if(sequence[seqPtr] == array[i]):\n",
    "            seqPtr += 1\n",
    "    return seqPtr == len(sequence)"
   ]
  },
  {
   "cell_type": "code",
   "execution_count": 3,
   "metadata": {},
   "outputs": [
    {
     "name": "stdout",
     "output_type": "stream",
     "text": [
      "False\n"
     ]
    }
   ],
   "source": [
    "testArray = [5,1,22,25,6,-1,8,10]\n",
    "testSequence = [1,6,-1,10]\n",
    "testSequence2 = [1,6,10,11]\n",
    "print(validateSubsequence(testArray, testSequence))\n",
    "print(validateSubsequence(testArray, testSequence2))"
   ]
  }
 ],
 "metadata": {
  "kernelspec": {
   "display_name": "Python 3",
   "language": "python",
   "name": "python3"
  },
  "language_info": {
   "codemirror_mode": {
    "name": "ipython",
    "version": 3
   },
   "file_extension": ".py",
   "mimetype": "text/x-python",
   "name": "python",
   "nbconvert_exporter": "python",
   "pygments_lexer": "ipython3",
   "version": "3.10.7"
  },
  "orig_nbformat": 4
 },
 "nbformat": 4,
 "nbformat_minor": 2
}
