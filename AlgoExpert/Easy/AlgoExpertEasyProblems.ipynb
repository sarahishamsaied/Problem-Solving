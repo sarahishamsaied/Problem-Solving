{
 "cells": [
  {
   "cell_type": "markdown",
   "metadata": {},
   "source": [
    "# Tournament Winner"
   ]
  },
  {
   "attachments": {},
   "cell_type": "markdown",
   "metadata": {},
   "source": [
    "There’s an algorithms tournament taking place in which teams of programmers compete against each other to solve algorithmic problems as fast as possible. Teams compete in a round robin, where each team faces off against all other teams. Only two teams compete against each other at a time, and for each competition, one team is designated the home team, while the other team is the away team. In each competition there’s always one winner and one loser; there are no ties. A team receives 3 points if it wins and 0 points if it loses. The winner of the tournament is the team that receives the most amount of points.\n",
    "\n",
    "Given an array of pairs representing the teams that have competed against each other and an array containing the results of each competition, write a function that returns the winner of the tournament. The input arrays are named competitions and results, respectively. The competitions array has elements in the form of [homeTeam, awayTeam], where each team is a string of at most 30 characters representing the name of the team. The results array contains information about the winner of each corresponding competition in the competitions array. Specifically, results[i] denotes the winner of competitions[i], where a 1 in the results array means that the home team in the corresponding competition won and a 0 means that the away team won.\n",
    "\n",
    "It’s guaranteed that exactly one team will win the tournament and that each team will compete against all other teams exactly once. It’s also guaranteed that the tournament will always have at least two teams."
   ]
  },
  {
   "cell_type": "markdown",
   "metadata": {},
   "source": [
    "## Sample Input"
   ]
  },
  {
   "cell_type": "code",
   "execution_count": 18,
   "metadata": {},
   "outputs": [],
   "source": [
    "competitions = [\n",
    "  [\"HTML\", \"C#\"],\n",
    "  [\"C#\", \"Python\"],\n",
    "]\n",
    "# {c#:6,Python:6}\n",
    "results = [0, 1]"
   ]
  },
  {
   "cell_type": "markdown",
   "metadata": {},
   "source": [
    "## Sample Output"
   ]
  },
  {
   "cell_type": "markdown",
   "metadata": {},
   "source": [
    "\"Python\""
   ]
  },
  {
   "cell_type": "code",
   "execution_count": 19,
   "metadata": {},
   "outputs": [
    {
     "name": "stdout",
     "output_type": "stream",
     "text": [
      "C#\n"
     ]
    }
   ],
   "source": [
    "def tournamentWinner(competitions,results):\n",
    "    scores = {competitions[0][0]:0,competitions[0][1]:0}\n",
    "    for i in range(len(competitions)):\n",
    "        if(competitions[i][0] not in scores):\n",
    "            scores[competitions[i][0]]=0\n",
    "        if(competitions[i][1] not in scores):\n",
    "            scores[competitions[i][1]]=0\n",
    "        if(results[i] == 1):\n",
    "            scores[competitions[i][0]]+=3\n",
    "        else:\n",
    "            scores[competitions[i][1]]+=3\n",
    "    return max(scores,key=scores.get)\n",
    "\n",
    "print(tournamentWinner(competitions,results))\n"
   ]
  },
  {
   "attachments": {},
   "cell_type": "markdown",
   "metadata": {},
   "source": [
    "## Non Constructible Change"
   ]
  },
  {
   "attachments": {},
   "cell_type": "markdown",
   "metadata": {},
   "source": [
    "Given an array of positive integers representing the values of coins in your possession, write a function that returns the minimum amount of change (the minimum sum of money) that you cannot create. The given coins can have any positive integer value and aren’t necessarily unique (i.e., you can have multiple coins of the same value).\n",
    "\n",
    "For example, if you’re given coins = [1, 2, 5], the minimum amount of change that you can’t create is 4. If you’re given no coins, the minimum amount of change that you can’t create is 1."
   ]
  },
  {
   "attachments": {},
   "cell_type": "markdown",
   "metadata": {},
   "source": [
    "#### Sample Input:\n",
    "coins = [5, 7, 1, 1, 2, 3, 22]\n",
    "#### Sample Output:\n",
    "20"
   ]
  },
  {
   "attachments": {},
   "cell_type": "markdown",
   "metadata": {},
   "source": [
    "***Let's sort the array first***\n",
    "\n",
    "        For example:\n",
    "\n",
    "        coins = [1,2,5]\n",
    "\n",
    "        we notice that the output = 4. since that we can create 1,2,3. but we can't create 4, but how?\n",
    "        we can create -> 1\n",
    "\n",
    "        we can create -> 2\n",
    "\n",
    "        we can create -> 1+2=3\n",
    "\n",
    "        but we can't create 4.\n",
    "\n",
    "        We notice that the current sum must be less than or equal the next coin + 1.\n"
   ]
  },
  {
   "cell_type": "code",
   "execution_count": 23,
   "metadata": {},
   "outputs": [
    {
     "name": "stdout",
     "output_type": "stream",
     "text": [
      "20\n"
     ]
    }
   ],
   "source": [
    "def nonConstructibleChange(coins):\n",
    "    coins.sort()\n",
    "    sum = 0\n",
    "    for i in range(len(coins)):\n",
    "        if(coins[i]>sum+1):\n",
    "            return sum+1\n",
    "        sum+=coins[i]\n",
    "    return sum+1\n",
    "\n",
    "print(nonConstructibleChange([5,7,1,1,2,3,22]))\n"
   ]
  },
  {
   "cell_type": "code",
   "execution_count": null,
   "metadata": {},
   "outputs": [],
   "source": []
  }
 ],
 "metadata": {
  "kernelspec": {
   "display_name": "Python 3",
   "language": "python",
   "name": "python3"
  },
  "language_info": {
   "codemirror_mode": {
    "name": "ipython",
    "version": 3
   },
   "file_extension": ".py",
   "mimetype": "text/x-python",
   "name": "python",
   "nbconvert_exporter": "python",
   "pygments_lexer": "ipython3",
   "version": "3.10.7"
  },
  "orig_nbformat": 4
 },
 "nbformat": 4,
 "nbformat_minor": 2
}
